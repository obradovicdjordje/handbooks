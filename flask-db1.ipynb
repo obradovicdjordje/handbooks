{
 "cells": [
  {
   "cell_type": "markdown",
   "metadata": {},
   "source": [
    "# Flask + MySql 1\n",
    "\n",
    "U ovom primeru bice prikazano povezivanje flask rest servisa i MySql baze. \n",
    "\n",
    "Struktura projekta:\n",
    "```\n",
    "flask-db1-\n",
    "         |-static-\n",
    "         |       |-index.html\n",
    "         |       |-css\n",
    "         |       |-js\n",
    "         |-run.py\n",
    "```\n",
    "\n",
    "\n",
    "### MySql\n",
    "\n",
    "Pristup MySql bazi iz python paketa moguće je preko nekoliko različitih connectora. Jedan od standardnih je:\n",
    "\n",
    "```python\n",
    "import mysql.connector\n",
    "```\n",
    "\n",
    "instalacija paketa\n",
    "```\n",
    "~$\\pip install mysql-connector-python\n",
    "```\n",
    "\n",
    "Pokretanje primera:\n",
    "```\n",
    "~$\\cd flask-db1\n",
    "~$\\python run.py\n",
    "\n",
    "```\n",
    "\n",
    "```\n",
    " * Restarting with stat\n",
    " * Debugger is active!\n",
    " * Debugger pin code: 253-788-624\n",
    "```\n",
    "Test:\n",
    "\n",
    "http://localhost:8080/index.html\n",
    "\n",
    "\n",
    "U formi popunite username i password i na dugme [[Sign in]] pozove se funkcija koja kreira novog korisnika u bazi.\n"
   ]
  },
  {
   "cell_type": "markdown",
   "metadata": {},
   "source": [
    "#### Implementacija \n",
    "\n",
    "Konfiguracija i kreiranje objekta koji sadrži određen broj 'otvorenih' konekcija prema bazi:"
   ]
  },
  {
   "cell_type": "code",
   "execution_count": 15,
   "metadata": {
    "collapsed": true
   },
   "outputs": [],
   "source": [
    "# PART-1\n",
    "import mysql.connector\n",
    "\n",
    "dbconfig = {\n",
    "    \"host\": 'rpi3-djordje.local',\n",
    "    \"database\": \"Agrotrail\",\n",
    "    \"user\":     \"agro\",\n",
    "    \"password\": \"trail\"\n",
    "}\n",
    "pool = mysql.connector.pooling.MySQLConnectionPool(\n",
    "    pool_name = \"mypool\", \n",
    "    pool_size = 3, **dbconfig)"
   ]
  },
  {
   "cell_type": "markdown",
   "metadata": {},
   "source": [
    "Deo koda preko kojeg je moguće pročitati listu prvih 5 korisnika"
   ]
  },
  {
   "cell_type": "code",
   "execution_count": 16,
   "metadata": {
    "collapsed": false
   },
   "outputs": [
    {
     "name": "stdout",
     "output_type": "stream",
     "text": [
      "pera\n",
      "pera\n",
      "pera\n",
      "pera\n",
      "pera\n"
     ]
    }
   ],
   "source": [
    "rez = []\n",
    "con = pool.get_connection()\n",
    "cur = con.cursor()\n",
    "cur.execute(\"SELECT * FROM Users LIMIT 5 OFFSET 0\")\n",
    "rows = cur.fetchall()\n",
    "for row in rows:\n",
    "    ob = {}\n",
    "    for i, col in enumerate(cur.description):\n",
    "        ob[col[0]] = row[i]\n",
    "    rez.append(ob)\n",
    "con.close()\n",
    "for usr in rez:\n",
    "    print usr['username']"
   ]
  },
  {
   "cell_type": "markdown",
   "metadata": {},
   "source": [
    "## run.py\n",
    "\n",
    "U datoteci run.py dodacemo:\n",
    "\n",
    "```python\n",
    "import mysql.connector\n",
    "\n",
    "dbconfig = {\n",
    "    \"host\": 'rpi3-djordje.local',\n",
    "    \"database\": \"Agrotrail\",\n",
    "    \"user\":     \"agro\",\n",
    "    \"password\": \"trail\"\n",
    "}\n",
    "pool = mysql.connector.pooling.MySQLConnectionPool(\n",
    "    pool_name = \"mypool\", \n",
    "    pool_size = 3, **dbconfig)\n",
    "```\n",
    "i definisati funkcije:"
   ]
  },
  {
   "cell_type": "code",
   "execution_count": null,
   "metadata": {
    "collapsed": true
   },
   "outputs": [],
   "source": [
    "# get list of all users\n",
    "@app.route(\"/api/users\", methods=['GET'])\n",
    "def api_users():\n",
    "    rez = []\n",
    "    con = pool.get_connection()\n",
    "    cur = con.cursor()\n",
    "    cur.execute(\"SELECT * FROM Users LIMIT 100 OFFSET 0\")\n",
    "    rows = cur.fetchall()\n",
    "    for row in rows:\n",
    "        ob = {}\n",
    "        for i, col in enumerate(cur.description):\n",
    "            ob[col[0]] = row[i]\n",
    "        rez.append(ob)\n",
    "    con.close()\n",
    "    return jsonify(result=rez)"
   ]
  },
  {
   "cell_type": "code",
   "execution_count": null,
   "metadata": {
    "collapsed": false
   },
   "outputs": [],
   "source": [
    "# create users\n",
    "@app.route(\"/api/users\", methods=['POST'])\n",
    "def api_users_add():\n",
    "    username = request.form.get('inUsername')\n",
    "    password = request.form.get('inPassword')\n",
    "    con = pool.get_connection()\n",
    "    cur = con.cursor(buffered=True)\n",
    "    cur.execute(\"\"\"\n",
    "           INSERT INTO Users(Farms_idFarms, username, password)\n",
    "           VALUES(1, '{0}', '{1}')\"\"\".format(username, password)\n",
    "    )\n",
    "    cur.execute(\"SELECT LAST_INSERT_ID();\")\n",
    "    id = cur.fetchone()\n",
    "    con.close()\n",
    "    return jsonify(result={\n",
    "         'id':id[0], \n",
    "         'username':username, \n",
    "         'password': password})"
   ]
  },
  {
   "cell_type": "markdown",
   "metadata": {},
   "source": [
    "Cela datoteka \n",
    "# run.py"
   ]
  },
  {
   "cell_type": "code",
   "execution_count": null,
   "metadata": {
    "collapsed": true
   },
   "outputs": [],
   "source": [
    "#!/usr/bin/python\n",
    "# -*- coding: utf-8 -*-\n",
    "\n",
    "from flask import Flask\n",
    "from flask import request\n",
    "from flask import jsonify\n",
    "import mysql.connector\n",
    "\n",
    "app = Flask(__name__)\n",
    "\n",
    "@app.route('/<path:path>')\n",
    "def static_file(path):\n",
    "    try:    \n",
    "        return app.send_static_file(path)\n",
    "    except: \n",
    "        return \"Error\"\n",
    "\n",
    "@app.route('/')\n",
    "def root():\n",
    "    return app.send_static_file('index.html')\n",
    "\n",
    "\n",
    "dbconfig = {\n",
    "    \"host\": 'rpi3-djordje.local',\n",
    "    \"database\": \"Agrotrail\",\n",
    "    \"user\":     \"agro\",\n",
    "    \"password\": \"trail\"\n",
    "}\n",
    "\n",
    "pool = mysql.connector.pooling.MySQLConnectionPool(\n",
    "    pool_name = \"mypool\", pool_size = 3, **dbconfig)\n",
    "\n",
    "\n",
    "# get list of all users\n",
    "@app.route(\"/api/users\", methods=['GET'])\n",
    "def api_users():\n",
    "    rez = []\n",
    "    con = pool.get_connection()\n",
    "    cur = con.cursor()\n",
    "    cur.execute(\"SELECT * FROM Users LIMIT 100 OFFSET 0\")\n",
    "    rows = cur.fetchall()\n",
    "    for row in rows:\n",
    "        ob = {}\n",
    "        for i, col in enumerate(cur.description):\n",
    "            ob[col[0]] = row[i]\n",
    "        rez.append(ob)\n",
    "    con.close()\n",
    "    return jsonify(result=rez)\n",
    "\n",
    "# create users\n",
    "@app.route(\"/api/users\", methods=['POST'])\n",
    "def api_users_add():\n",
    "    username = request.form.get('inUsername')\n",
    "    password = request.form.get('inPassword')\n",
    "    con = pool.get_connection()\n",
    "    cur = con.cursor(buffered=True)\n",
    "    cur.execute(\"\"\"\n",
    "           INSERT INTO Users(Farms_idFarms, username, password)\n",
    "           VALUES(1, '{0}', '{1}')\"\"\".format(username, password)\n",
    "    )\n",
    "    cur.execute(\"SELECT LAST_INSERT_ID();\")\n",
    "    id = cur.fetchone()\n",
    "    con.close()\n",
    "    return jsonify(result={\n",
    "         'id':id[0], \n",
    "         'username':username, \n",
    "         'password': password})\n",
    "\n",
    "if __name__ == \"__main__\":\n",
    "    app.run(host='0.0.0.0', port=8080, debug=True)\n"
   ]
  },
  {
   "cell_type": "markdown",
   "metadata": {},
   "source": [
    "# index.html\n",
    "\n",
    "U datoteci index.html definisana je forma sa pozivanje funkcije:\n",
    "```\n",
    "@app.route(\"/api/users\", methods=['POST'])\n",
    "```\n",
    "\n",
    "```html\n",
    "  <form class=\"form-signin\" action=\"/api/users\" method=post>\n",
    "    <h2 class=\"form-signin-heading\">Please sign in</h2>\n",
    "    <br>\n",
    "    <label for=\"inputEmail\" class=\"sr-only\">Username</label>\n",
    "    <input type=\"text\" id=\"inputUsername\" name=\"inUsername\" \n",
    "           class=\"form-control\" placeholder=\"Username\" \n",
    "            required autofocus>\n",
    "    <label for=\"inputPassword\" class=\"sr-only\">Password</label>\n",
    "    <input type=\"password\" id=\"inPassword\" name=\"inPassword\" \n",
    "           class=\"form-control\" placeholder=\"Password\" required>\n",
    "    <button class=\"btn btn-lg btn-primary btn-block\" \n",
    "            type=\"submit\">\n",
    "        Sign in</button>\n",
    "  </form>\n",
    "\n",
    "```\n"
   ]
  },
  {
   "cell_type": "code",
   "execution_count": null,
   "metadata": {
    "collapsed": true
   },
   "outputs": [],
   "source": []
  }
 ],
 "metadata": {
  "kernelspec": {
   "display_name": "Python 2",
   "language": "python",
   "name": "python2"
  },
  "language_info": {
   "codemirror_mode": {
    "name": "ipython",
    "version": 2
   },
   "file_extension": ".py",
   "mimetype": "text/x-python",
   "name": "python",
   "nbconvert_exporter": "python",
   "pygments_lexer": "ipython2",
   "version": "2.7.6"
  }
 },
 "nbformat": 4,
 "nbformat_minor": 2
}
