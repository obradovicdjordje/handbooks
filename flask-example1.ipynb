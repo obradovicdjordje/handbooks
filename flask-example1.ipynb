{
 "cells": [
  {
   "cell_type": "markdown",
   "metadata": {},
   "source": [
    "# Flask\n",
    "\n",
    "Framework za rad sa web aplikacijama i rest servisima.\n",
    "\n",
    "Korisno:\n",
    "- http://flask.pocoo.org/\n",
    "\n",
    "\n",
    "Jednostavna instalacija:\n",
    "```\n",
    "pip install Flask\n",
    "```\n",
    "\n",
    "Primer jednostavne web aplikacije koja 'servira' html i implementira tri rest servisa.\n",
    "\n",
    "Struktura projekta:\n",
    "```\n",
    "flask-example1-\n",
    "         |-static-\n",
    "         |       |-index.html\n",
    "         |       |-css\n",
    "         |       |-js\n",
    "         |-run.py\n",
    "```"
   ]
  },
  {
   "cell_type": "markdown",
   "metadata": {},
   "source": [
    "## run.py\n",
    "\n",
    "Python program sa kojim se pokrece aplikacija."
   ]
  },
  {
   "cell_type": "code",
   "execution_count": null,
   "metadata": {
    "collapsed": false
   },
   "outputs": [],
   "source": [
    "#!/usr/bin/python\n",
    "# -*- coding: utf-8 -*-\n",
    "\n",
    "from flask import Flask\n",
    "from flask import request\n",
    "from flask import jsonify\n",
    "\n",
    "app = Flask(__name__)\n",
    "\n",
    "@app.route(\"/api/add\", methods=['GET'])\n",
    "def add():\n",
    "    a = request.args.get('a', 0, type=int)\n",
    "    b = request.args.get('b', 0, type=int)\n",
    "    return jsonify(result=a + b)\n",
    "\n",
    "if __name__ == \"__main__\":\n",
    "    app.run(host='0.0.0.0', port=8080, debug=True)\n"
   ]
  },
  {
   "cell_type": "markdown",
   "metadata": {
    "collapsed": true
   },
   "source": [
    "U folderu flask-example1 pokrenuti program:\n",
    "\n",
    "```\n",
    "~/data/git/handbooks/flask-example1 $ python run.py\n",
    "```"
   ]
  },
  {
   "cell_type": "markdown",
   "metadata": {},
   "source": [
    "Ako je sve proslo kako treba na konzoli ce se ispisati:\n",
    "\n",
    "```\n",
    " * Running on http://0.0.0.0:8080/ (Press CTRL+C to quit)\n",
    " * Restarting with stat\n",
    " * Debugger is active!\n",
    " * Debugger pin code: 178-177-599\n",
    "\n",
    "```\n",
    "Sad u browser-u unesite adresu http://localhost:8080/ i trebalo bi da se ucita index.html i da se pojavi \n",
    "\n",
    "Hello world!\n"
   ]
  },
  {
   "cell_type": "markdown",
   "metadata": {},
   "source": [
    "Primer jednostavnog rest servisa koji radi sabiranje dva broja:\n",
    "\n",
    "```python\n",
    "@app.route(\"/api/add\", methods=['GET'])\n",
    "def add():\n",
    "    a = request.args.get('a', 0, type=int)\n",
    "    b = request.args.get('b', 0, type=int)\n",
    "    return jsonify(result=a + b)\n",
    "```\n"
   ]
  },
  {
   "cell_type": "markdown",
   "metadata": {},
   "source": [
    "Kako servis radi možete proveriti na sledećem linku:\n",
    "\n",
    "http://localhost:8080/api/add?a=3&b=7\n",
    "\n",
    "Ako je sve u redu dobicete sledeci rezultat:\n",
    "\n",
    "```\n",
    "{\n",
    "  \"result\": 10\n",
    "}\n",
    "```\n",
    "    "
   ]
  },
  {
   "cell_type": "markdown",
   "metadata": {},
   "source": [
    "### Vežba 1\n",
    "\n",
    "Napišite rest servis koji prima dva parametra username i passwd, proverava \n",
    "\n",
    "- da li je username == 'admin' i passwd=='12345'\n",
    "\n",
    "Ako je:\n",
    "- da onda vrati result='ok' \n",
    "- u protivnom result='error'\n",
    "\n",
    "\n",
    "http://localhost:8080/api/login?username=admin&passwd=12345\n",
    "\n",
    "```\n",
    "{\n",
    "  \"result\": \"ok\"\n",
    "}\n",
    "```\n",
    "http://localhost:8080/api/login?username=mitar&passwd=miric\n",
    "\n",
    "```\n",
    "{\n",
    "  \"result\": \"error\"\n",
    "}\n",
    "```"
   ]
  },
  {
   "cell_type": "code",
   "execution_count": null,
   "metadata": {
    "collapsed": true
   },
   "outputs": [],
   "source": []
  },
  {
   "cell_type": "markdown",
   "metadata": {},
   "source": [
    "## Vežba 2\n",
    "\n",
    "Ako je rest servis za generisanje liste dana u nedelji:\n",
    "\n",
    "```python\n",
    "@app.route(\"/api/days\", methods=['GET'])\n",
    "def days():\n",
    "    ret = ['ponedeljak', 'utorak', 'sreda', 'cetvrtak', 'petak', 'subota', 'nedelja']\n",
    "    return jsonify(result=ret)\n",
    "```\n",
    "http://localhost:8080/api/days\n",
    "```\n",
    "{\n",
    "  \"result\": [\n",
    "    \"ponedeljak\", \n",
    "    \"utorak\", \n",
    "    \"sreda\", \n",
    "    \"cetvrtak\", \n",
    "    \"petak\", \n",
    "    \"subota\", \n",
    "    \"nedelja\"\n",
    "  ]\n",
    "}\n",
    "\n",
    "```\n",
    "\n",
    "\n",
    "\n",
    "napisite servis koji generise listu naziva vecih gradova u okolini."
   ]
  },
  {
   "cell_type": "code",
   "execution_count": null,
   "metadata": {
    "collapsed": true
   },
   "outputs": [],
   "source": []
  },
  {
   "cell_type": "code",
   "execution_count": null,
   "metadata": {
    "collapsed": true
   },
   "outputs": [],
   "source": []
  },
  {
   "cell_type": "code",
   "execution_count": null,
   "metadata": {
    "collapsed": true
   },
   "outputs": [],
   "source": []
  },
  {
   "cell_type": "code",
   "execution_count": null,
   "metadata": {
    "collapsed": true
   },
   "outputs": [],
   "source": [
    "#!/usr/bin/python\n",
    "# -*- coding: utf-8 -*-\n",
    "\n",
    "from flask import Flask\n",
    "from flask import request\n",
    "from flask import jsonify\n",
    "\n",
    "app = Flask(__name__)\n",
    "\n",
    "@app.route(\"/api/add\", methods=['GET'])\n",
    "def add():\n",
    "    a = request.args.get('a', 0, type=int)\n",
    "    b = request.args.get('b', 0, type=int)\n",
    "    return jsonify(result=a + b)\n",
    "\n",
    "@app.route(\"/api/days\", methods=['GET'])\n",
    "def days():\n",
    "    ret = ['ponedeljak', 'utorak', 'sreda', 'cetvrtak', 'petak', 'subota', 'nedelja']\n",
    "    return jsonify(result=ret)\n",
    "\n",
    "\n",
    "@app.route(\"/api/login\", methods=['GET'])\n",
    "def login():\n",
    "    username = request.args.get('username', '', type=str)\n",
    "    password = request.args.get('passwd', '', type=str)\n",
    "    ret = 'error'\n",
    "    if username == 'admin' and password =='12345':\n",
    "        ret = 'ok'\n",
    "    return jsonify(result=ret)\n",
    "\n",
    "\n",
    "if __name__ == \"__main__\":\n",
    "    app.run(host='0.0.0.0', port=8080, debug=True)"
   ]
  }
 ],
 "metadata": {
  "kernelspec": {
   "display_name": "Python 2",
   "language": "python",
   "name": "python2"
  },
  "language_info": {
   "codemirror_mode": {
    "name": "ipython",
    "version": 2
   },
   "file_extension": ".py",
   "mimetype": "text/x-python",
   "name": "python",
   "nbconvert_exporter": "python",
   "pygments_lexer": "ipython2",
   "version": "2.7.6"
  }
 },
 "nbformat": 4,
 "nbformat_minor": 2
}
