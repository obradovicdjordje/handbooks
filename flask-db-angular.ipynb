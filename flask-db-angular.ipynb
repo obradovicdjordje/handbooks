{
 "cells": [
  {
   "cell_type": "markdown",
   "metadata": {},
   "source": [
    "# Flask - db - angular 1\n",
    "\n",
    "U ovom primeru bice prikazano povezivanje angular UI dela sa rest servisima implementiranim pomocu Flask servera.\n",
    "\n",
    "```\n",
    "Klijent                          Server\n",
    "----------                    ------------\n",
    "browser(Chrome,             python, Flask\n",
    "        Firefox, IE)\n",
    "\n",
    "angular                     [GET]/api/login  # login servis\n",
    "javascript                  [GET]/api/users  # lista svih korisnika\n",
    "HTML5, css                  [POST]/api/users # kreiranje korisnika\n",
    "```\n",
    "\n",
    "Struktura projekta:\n",
    "```\n",
    "flask-db-angular\n",
    " |\n",
    " +-run.py   // definicija rest servisa\n",
    " |\n",
    " +-static   // html, css, javascript datoteke\n",
    "    + index.html  // osnovna stranica u kojoj ce se izvrsavati app\n",
    "    +-app   // angular aplikacija\n",
    "       +-js       // javascript kontroleri\n",
    "       +-pages    // html stranice za opis UI\n",
    "    +-css  // skup 'obaveznih' css datoteka\n",
    "    +-js   // skup 'obaveznih' javascript datoteka\n",
    "```\n"
   ]
  },
  {
   "cell_type": "markdown",
   "metadata": {},
   "source": [
    "## run.py\n",
    "\n",
    "\n"
   ]
  },
  {
   "cell_type": "code",
   "execution_count": null,
   "metadata": {
    "collapsed": true
   },
   "outputs": [],
   "source": [
    "#!/usr/bin/python\n",
    "# -*- coding: utf-8 -*-\n",
    "\n",
    "from flask import Flask\n",
    "from flask import request\n",
    "from flask import jsonify\n",
    "import random\n",
    "import string\n",
    "import json\n",
    "import mysql.connector"
   ]
  },
  {
   "cell_type": "markdown",
   "metadata": {},
   "source": [
    "Novost su `random` i `string` paketi koji ce biti posebno opisani ali sad bitni.\n"
   ]
  },
  {
   "cell_type": "code",
   "execution_count": null,
   "metadata": {
    "collapsed": true
   },
   "outputs": [],
   "source": [
    "@app.route('/<path:path>')\n",
    "def static_file(path):\n",
    "    try:    \n",
    "        return app.send_static_file(path)\n",
    "    except: \n",
    "        return \"Error\"\n",
    "\n",
    "@app.route('/')\n",
    "def root():\n",
    "    return app.send_static_file('index.html')\n"
   ]
  },
  {
   "cell_type": "markdown",
   "metadata": {},
   "source": [
    "Definicija osnovnih ruta. Uobicajeni deo ako zelimo da FLask server 'servira' html, css i javascript datoteke."
   ]
  },
  {
   "cell_type": "code",
   "execution_count": null,
   "metadata": {
    "collapsed": true
   },
   "outputs": [],
   "source": [
    "dbconfig = {\n",
    "    \"host\": 'rpi3-djordje.local',\n",
    "    \"database\": \"Agrotrail\",\n",
    "    \"user\":     \"agro\",\n",
    "    \"password\": \"trail\"\n",
    "}\n",
    "\n",
    "pool = mysql.connector.pooling.MySQLConnectionPool(\n",
    "    pool_name = \"mypool\", pool_size = 3, **dbconfig)"
   ]
  },
  {
   "cell_type": "markdown",
   "metadata": {},
   "source": [
    "Konektor za bazu. Preko `pool` promenljive dobijacemo konekciju prema bazi. "
   ]
  },
  {
   "cell_type": "markdown",
   "metadata": {},
   "source": [
    "Za potrebe autorizacije svakog zahteva izmedju klijentskog i serverskog dela generisacemo slucajan niz karaktera odredjene duzine i pridruzivacemo ga svakom korisniku. Taj niz koristicemo kasnije kao token u header delu svakog request-a.\n",
    "\n",
    "U ovom primeru generisacemo token duzine 32 karaktera. \n"
   ]
  },
  {
   "cell_type": "code",
   "execution_count": 2,
   "metadata": {
    "collapsed": true
   },
   "outputs": [],
   "source": [
    "def token_generator():\n",
    "    N = 32\n",
    "    alphabet = string.ascii_lowercase\n",
    "    alphabet += string.ascii_uppercase \n",
    "    alphabet += string.digits\n",
    "    return ''.join(random.choice(alphabet) for _ in range(N))"
   ]
  },
  {
   "cell_type": "markdown",
   "metadata": {},
   "source": [
    "Primeri generisanih token-a:\n",
    "- FkIYVXJPgCGznSr0iKFO3VM3fN5eP56J\n",
    "- Bmn8jRptaPG7Z6wG7u6IkMmNy6eVvhws\n",
    "- ZxK9T1lYlruwdyhpjgCJCq4cgp9nzY9j"
   ]
  },
  {
   "cell_type": "markdown",
   "metadata": {},
   "source": [
    "REST servisi\n",
    "### /api/login [GET]"
   ]
  },
  {
   "cell_type": "code",
   "execution_count": null,
   "metadata": {
    "collapsed": false
   },
   "outputs": [],
   "source": [
    "# login\n",
    "@app.route(\"/api/login\", methods=['GET'])\n",
    "def api_login():\n",
    "    username = request.args.get('username', None)\n",
    "    password = request.args.get('password', None)\n",
    "    if(username==None or password==None):\n",
    "        return 'error', 404\n",
    "    con = pool.get_connection()\n",
    "    cur = con.cursor()\n",
    "    cur.execute(\"\"\"SELECT username, password \n",
    "                   FROM Users \n",
    "                   WHERE username='{0}' AND password='{1}'\n",
    "                \"\"\".format(username, password))\n",
    "    row = cur.fetchone()\n",
    "    cur.close()\n",
    "    con.close()\n",
    "    if row == None:\n",
    "        return 'error', 404\n",
    "    else:\n",
    "        token = token_generator()\n",
    "        return token, 200"
   ]
  },
  {
   "cell_type": "markdown",
   "metadata": {},
   "source": [
    "### /api/users [GET]"
   ]
  },
  {
   "cell_type": "code",
   "execution_count": null,
   "metadata": {
    "collapsed": true
   },
   "outputs": [],
   "source": [
    "# get list of all users\n",
    "@app.route(\"/api/users\", methods=['GET'])\n",
    "def api_users():\n",
    "    rez = []\n",
    "    con = pool.get_connection()\n",
    "    cur = con.cursor()\n",
    "    cur.execute(\"SELECT * FROM Users LIMIT 100 OFFSET 0\")\n",
    "    rows = cur.fetchall()\n",
    "    for row in rows:\n",
    "        ob = {}\n",
    "        for i, col in enumerate(cur.description):\n",
    "            ob[col[0]] = row[i]\n",
    "        rez.append(ob)\n",
    "    con.close()\n",
    "    return jsonify(result=rez)"
   ]
  },
  {
   "cell_type": "markdown",
   "metadata": {},
   "source": [
    "### /api/users [POST]"
   ]
  },
  {
   "cell_type": "code",
   "execution_count": null,
   "metadata": {
    "collapsed": true
   },
   "outputs": [],
   "source": [
    "# create user\n",
    "@app.route(\"/api/users\", methods=['POST'])\n",
    "def api_users_add():\n",
    "    data = request.data\n",
    "    usr = json.loads(data)\n",
    "    con = pool.get_connection()\n",
    "    cur = con.cursor(buffered=True)\n",
    "    cur.execute(\"\"\"\n",
    "           INSERT INTO Users\n",
    "             (Farms_idFarms, username, password)\n",
    "           VALUES(1, '{0}', '{1}')\n",
    "           \"\"\".format(usr['username'], usr['password'])\n",
    "    )\n",
    "    cur.execute(\"SELECT LAST_INSERT_ID();\")\n",
    "    id = cur.fetchone()\n",
    "    con.commit()\n",
    "    con.close()\n",
    "    return jsonify(result={'id':id[0]})"
   ]
  },
  {
   "cell_type": "markdown",
   "metadata": {},
   "source": [
    "Na kraju run.py datoteke poterbno je pokrenuti server:"
   ]
  },
  {
   "cell_type": "code",
   "execution_count": null,
   "metadata": {
    "collapsed": true
   },
   "outputs": [],
   "source": [
    "if __name__ == \"__main__\":\n",
    "    app.run(host='0.0.0.0', port=88, debug=True)"
   ]
  },
  {
   "cell_type": "markdown",
   "metadata": {},
   "source": [
    "## index.html\n",
    "\n",
    "```html\n",
    "\n",
    "<html>\n",
    "<head>\n",
    "<title>Flask-db-angular</title>\n",
    "<!-- metadata -->\n",
    "<meta name=\"viewport\" content=\"width=device-width, initial-scale=1\">\n",
    "<meta http-equiv=\"Content-Type\" content=\"text/html; charset=utf-8\" />\n",
    "<meta name=\"keywords\" content=\"example\" />\n",
    "<!-- css links -->\n",
    "<link href=\"css/bootstrap.min.css\" rel=\"stylesheet\" type=\"text/css\" media=\"all\">\n",
    "<link href=\"css/font-awesome.min.css\" rel=\"stylesheet\" type=\"text/css\" media=\"all\" />\n",
    "<link href=\"css/style.css\" rel=\"stylesheet\" type=\"text/css\" media=\"all\">\n",
    "\n",
    "<!-- javascript files -->\n",
    "<script src=\"js/angular-1.5.3.js\" type=\"text/javascript\"></script>\n",
    "<script src=\"js/ui-bootstrap-tpls-1.3.3.min.js\" type=\"text/javascript\" ></script>\n",
    "<script src=\"js/angular-animate.min.js\" type=\"text/javascript\" ></script>\n",
    "<script src=\"js/angular-ui-router.min.js\" type=\"text/javascript\" ></script>\n",
    "\n",
    "<!-- app files -->\n",
    "<link href=\"css/style-app.css\" rel=\"stylesheet\" type=\"text/css\" media=\"all\">\n",
    "\n",
    "<script src=\"app/js/app.js\"></script>\n",
    "<script src=\"app/js/app.controller.js\"></script>\n",
    "\n",
    "</head>\n",
    "<body ng-app=\"routerApp\">\n",
    "\n",
    "<div ui-view></div>\n",
    "\n",
    "<!-- js files -->\n",
    "<script src=\"js/jquery-3.1.1.min.js\"></script>\n",
    "<script src=\"js/bootstrap.min.js\"></script>\n",
    "\n",
    "</body>\n",
    "</html>\n",
    "```\n"
   ]
  },
  {
   "cell_type": "markdown",
   "metadata": {},
   "source": [
    "Angualar aplikacija ucitava se pokretanjem javascript datoteke `app/js/app.js`. Angular framework koristi direktive:\n",
    "- ng-app=\"routerApp\"\n",
    "- ui-view\n",
    "\n",
    "da bi povezao angular aplikaciju i view deo za prikazivanje korisnickog interface."
   ]
  },
  {
   "cell_type": "markdown",
   "metadata": {},
   "source": [
    "###  app/js/app.js\n",
    "\n",
    "Slicno kao u serverskom delu ovde se takodje definisu rute preko kojih se upravlja sa prikazivanjem delova korisnickog interfejsa. \n",
    "\n",
    "routerApp modul konfigurise se funkcijom u kojoj je opisana osnovna logika prikazivanja delova aplikacije.\n",
    "\n",
    "\n",
    "```javascript\n",
    "var routerApp = angular.module('routerApp', ['ui.router', 'ui.bootstrap']);\n",
    "\n",
    "routerApp.$inject = ['AppController'];\n",
    "\n",
    "// ------ router -------------\n",
    "routerApp.config(function(\\$stateProvider, \\$urlRouterProvider) {\n",
    "    \n",
    "    \\$urlRouterProvider.otherwise('/login');\n",
    "    \\$stateProvider\n",
    "        .state('home', {\n",
    "            url: '/home',\n",
    "            templateUrl: 'app/pages/home.html',\n",
    "            controller: 'AppController as vm'\n",
    "        })\n",
    "        .state('login', {\n",
    "            url: '/login',\n",
    "            templateUrl: 'app/pages/login.html',\n",
    "            controller: 'LoginController as vm'\n",
    "        })\n",
    "        .state('about', {\n",
    "            // we'll get to this in a bit\n",
    "        });\n",
    "});\n",
    "\n",
    "```"
   ]
  },
  {
   "cell_type": "markdown",
   "metadata": {},
   "source": [
    "Upravljanje elementima korisnickog interfejsa vrsi se preko kontroler funkcija. U ovom primeru koristicemo dva kontrolera:\n",
    "\n",
    "```\n",
    "- AppController     - 'app/js/app.js'\n",
    "- LoginController   - 'app/js/app.controller.js'\n",
    "```\n",
    "\n",
    "routerApp se brine da poveze:\n",
    "- rutu 'login'      http://localhost:8080/index.html#login\n",
    "- templejt html:  app/pages/login.html\n",
    "- kontroller:      LoginController as vm \n"
   ]
  },
  {
   "cell_type": "markdown",
   "metadata": {},
   "source": [
    "### #login\n",
    "\n",
    "```javascript\n",
    "//-------- login controller --------------\n",
    "routerApp.controller('LoginController', function($scope, $http, $rootScope, $state) {\n",
    "    var vm = this;\n",
    "    \n",
    "    vm.username = '';\n",
    "    vm.password = '';\n",
    "    vm.message = '';\n",
    "\n",
    "    vm.login = function(){\n",
    "        \\$http.get('/api/users?username='+vm.username+'&password='+vm.password).then(\n",
    "          function(resp){\n",
    "            \\$rootScope.loggedUser = vm.username;\n",
    "            \\$state.go('home');\n",
    "        }, function(err){\n",
    "            vm.message = err;\n",
    "        });\n",
    "    }\n",
    "\n",
    "});\n",
    "```\n",
    "```html\n",
    "<div class=\"container\">\n",
    "    <br>\n",
    "\t<h3 class=\"text-center\">Login</h3>\n",
    "\t<div class=\"container\">\n",
    "\t\t<div class=\"row\">\n",
    "\t\t\t<div class=\"col-md-6 col-md-offset-3 col-sm-8 col-sm-offset-2\">\n",
    "\t\t\t\t<form role=\"form\">\n",
    "\t\t\t\t\t<div class=\"row\">\n",
    "\t\t\t\t\t\t<div class=\"form-group col-lg-12\">\n",
    "\t\t\t\t\t\t\t<label>Korisničko ime</label>\n",
    "\t\t\t\t\t\t\t<input type=\"text\" ng-model=\"vm.username\" \n",
    "                                   class=\"form-control\">\n",
    "\t\t\t\t\t\t</div>\n",
    "\t\t\t\t\t\t<div class=\"form-group col-lg-12\">\n",
    "\t\t\t\t\t\t\t<label>Lozinka</label>\n",
    "\t\t\t\t\t\t\t<input type=\"password\" ng-model=\"vm.password\" \n",
    "                                   class=\"form-control\">\n",
    "\t\t\t\t\t\t</div>\n",
    "\t\t\t\t\t</div>\n",
    "\t\t\t\t\t<div class=\"row\">\n",
    "\t\t\t\t\t\t<div class=\"form-group col-md-6 col-md-offset-3 \n",
    "                                    col-xs-8 col-xs-offset-2 text-center\">\n",
    "\t\t\t\t\t\t\t<button type=\"submit\" ng-click=\"vm.login()\" \n",
    "                                    class=\"btn btn-lg\">Login</button>\n",
    "\t\t\t\t\t\t</div>\n",
    "\t\t\t\t\t</div>\n",
    "\t\t\t\t\t<div class=\"row\">\n",
    "\t\t\t\t\t\t<div class=\"form-group col-md-6 col-md-offset-3 \n",
    "                                    col-xs-8 col-xs-offset-2 text-center\">\n",
    "\t\t\t\t\t\t\t<label>{{vm.message}}</label>\n",
    "\t\t\t\t\t\t</div>\n",
    "\t\t\t\t\t</div>\n",
    "\t\t\t\t</form>\n",
    "\t\t\t</div>\n",
    "\t\t</div>\n",
    "\t</div>\n",
    "</div>\n",
    "```"
   ]
  },
  {
   "cell_type": "code",
   "execution_count": null,
   "metadata": {
    "collapsed": true
   },
   "outputs": [],
   "source": []
  }
 ],
 "metadata": {
  "kernelspec": {
   "display_name": "Python 2",
   "language": "python",
   "name": "python2"
  },
  "language_info": {
   "codemirror_mode": {
    "name": "ipython",
    "version": 2
   },
   "file_extension": ".py",
   "mimetype": "text/x-python",
   "name": "python",
   "nbconvert_exporter": "python",
   "pygments_lexer": "ipython2",
   "version": "2.7.6"
  }
 },
 "nbformat": 4,
 "nbformat_minor": 2
}
