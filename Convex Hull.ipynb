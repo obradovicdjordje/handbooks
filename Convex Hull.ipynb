{
 "cells": [
  {
   "cell_type": "markdown",
   "metadata": {},
   "source": [
    "## Jarvis march - 'The gift-wrapping'\n",
    "\n",
    "https://en.wikipedia.org/wiki/Gift_wrapping_algorithm\n",
    "\n",
    "Implementacija algoritma za odredjivanje konveksnog omotaca niza 2D tacaka.\n"
   ]
  },
  {
   "cell_type": "code",
   "execution_count": 14,
   "metadata": {
    "collapsed": true
   },
   "outputs": [],
   "source": [
    "import matplotlib.pyplot as plt  \n",
    "import random\n",
    "%matplotlib inline\n",
    "\n",
    "def isCC(p0, p1, p2):\n",
    "    diff = ((p2[0]-p0[0])*(p1[1]-p0[1])-\n",
    "            (p1[0]-p0[0])*(p2[1]-p0[1]))\n",
    "    return diff>0\n",
    "\n",
    "def hull(points):\n",
    "    s = points[0]    \n",
    "    for p in points[1:]:\n",
    "        if(p[0]<s[0]):\n",
    "            s = p\n",
    "    rez = [s]\n",
    "    \n",
    "    fp = None\n",
    "    pp = s\n",
    "    while fp is not s:        \n",
    "        p1 = None\n",
    "        for p in points:\n",
    "            if p is pp:\n",
    "                continue\n",
    "            else:\n",
    "                p1 = p\n",
    "                break\n",
    "                \n",
    "        fp = p1\n",
    "        \n",
    "        for p2 in points:\n",
    "            if p2 is pp or p2 is p1:\n",
    "                continue\n",
    "            else:\n",
    "                if isCC(pp, fp, p2):\n",
    "                    fp = p2\n",
    "        rez.append(fp)\n",
    "        pp = fp\n",
    "    return rez"
   ]
  },
  {
   "cell_type": "code",
   "execution_count": 15,
   "metadata": {
    "collapsed": true
   },
   "outputs": [],
   "source": [
    "points = []\n",
    "for _ in range(50):\n",
    "    [x, y] = [random.randint(-100, 100), random.randint(-100, 100)]\n",
    "    points.append([x, y])\n",
    "    "
   ]
  },
  {
   "cell_type": "code",
   "execution_count": 16,
   "metadata": {
    "collapsed": false
   },
   "outputs": [
    {
     "data": {
      "text/plain": [
       "(-150, 150)"
      ]
     },
     "execution_count": 16,
     "metadata": {},
     "output_type": "execute_result"
    },
    {
     "data": {
      "image/png": "[encoded data removed]",
      "text/plain": [
       "<matplotlib.figure.Figure at 0x7fe5f75a7290>"
      ]
     },
     "metadata": {},
     "output_type": "display_data"
    }
   ],
   "source": [
    "x = [p[0] for p in points]\n",
    "y = [p[1] for p in points]\n",
    "plt.plot(x, y, marker='D', linestyle='None')\n",
    "\n",
    "plt.xlim([-150, 150])\n",
    "plt.ylim([-150, 150])"
   ]
  },
  {
   "cell_type": "code",
   "execution_count": 17,
   "metadata": {
    "collapsed": true
   },
   "outputs": [],
   "source": [
    "convex_hull = hull(points)"
   ]
  },
  {
   "cell_type": "code",
   "execution_count": 18,
   "metadata": {
    "collapsed": false
   },
   "outputs": [
    {
     "data": {
      "text/plain": [
       "(-150, 150)"
      ]
     },
     "execution_count": 18,
     "metadata": {},
     "output_type": "execute_result"
    },
    {
     "data": {
      "image/png": "[encoded data removed]",
      "text/plain": [
       "<matplotlib.figure.Figure at 0x7fe5f735b710>"
      ]
     },
     "metadata": {},
     "output_type": "display_data"
    }
   ],
   "source": [
    "hx = [p[0] for p in convex_hull]\n",
    "hy = [p[1] for p in convex_hull]\n",
    "plt.plot(hx, hy)\n",
    "\n",
    "x = [p[0] for p in points]\n",
    "y = [p[1] for p in points]\n",
    "plt.plot(x, y, marker='D', linestyle='None')\n",
    "\n",
    "plt.xlim([-150, 150])\n",
    "plt.ylim([-150, 150])"
   ]
  },
  {
   "cell_type": "code",
   "execution_count": null,
   "metadata": {
    "collapsed": true
   },
   "outputs": [],
   "source": []
  }
 ],
 "metadata": {
  "kernelspec": {
   "display_name": "Python 2",
   "language": "python",
   "name": "python2"
  },
  "language_info": {
   "codemirror_mode": {
    "name": "ipython",
    "version": 2
   },
   "file_extension": ".py",
   "mimetype": "text/x-python",
   "name": "python",
   "nbconvert_exporter": "python",
   "pygments_lexer": "ipython2",
   "version": "2.7.6"
  }
 },
 "nbformat": 4,
 "nbformat_minor": 2
}
