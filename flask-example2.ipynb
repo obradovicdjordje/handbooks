{
 "cells": [
  {
   "cell_type": "markdown",
   "metadata": {},
   "source": [
    "# Flask - example2\n",
    "\n",
    "U ovom primeru bice pokazano kako se pravi jednostavna forma u \n",
    "\n",
    "index.html i \n",
    "\n",
    "kako se povezuje sa rest servisom preko POST zahteva.\n",
    "\n",
    "```\n",
    "Struktura projekta:\n",
    "flask-example1-\n",
    "         |-static-\n",
    "         |       |-index.html\n",
    "         |       |-css\n",
    "         |       |-js\n",
    "         |-run.py\n",
    "```"
   ]
  },
  {
   "cell_type": "markdown",
   "metadata": {},
   "source": [
    "### index.html"
   ]
  },
  {
   "cell_type": "markdown",
   "metadata": {},
   "source": [
    "``` html\n",
    "<div class=\"container\">\n",
    "    <div class=\"jumbotron\">\n",
    "      <form class=\"form-signin\" action=\"/api/form_login\" method=post>\n",
    "        <h2 class=\"form-signin-heading\">Please sign in</h2>\n",
    "        <label for=\"inputEmail\" class=\"sr-only\">Email address</label>\n",
    "        <input type=\"email\" id=\"inputEmail\" \n",
    "               name=\"inputEmail\" class=\"form-control\" \n",
    "               placeholder=\"Email address\" required autofocus>\n",
    "        <label for=\"inputPassword\" class=\"sr-only\">Password</label>\n",
    "        <input type=\"password\" id=\"inputPassword\" \n",
    "               name=\"inputPassword\" class=\"form-control\" \n",
    "               placeholder=\"Password\" required>\n",
    "        <button class=\"btn btn-lg btn-primary btn-block\" \n",
    "                type=\"submit\">Sign in</button>\n",
    "      </form>\n",
    "\n",
    "    </div>\n",
    "</div>\n",
    "```\n"
   ]
  },
  {
   "cell_type": "markdown",
   "metadata": {},
   "source": [
    "## run.py\n",
    "\n",
    "Novost u odnosu na prethodni primer je u sledecoj funkciji:\n",
    "\n",
    "``` python\n",
    "users = []\n",
    "\n",
    "@app.route(\"/api/form_login\", methods=['POST'])\n",
    "def form_insert():\n",
    "    email = request.form.get('inputEmail')\n",
    "    password = request.form.get('inputPassword')\n",
    "    users.append({'email':email, 'passwd':password})\n",
    "    return jsonify(result=users)\n",
    "```\n",
    "\n",
    "Bitni elementi u formi:\n",
    "```\n",
    "  action=\"/api/form_login\" method=post`\n",
    "  name=\"inputEmail\"\n",
    "  name=\"inputPassword\"\n",
    "```\n",
    "\n",
    "Bitni elementi u funk\n",
    "\n",
    "\n"
   ]
  },
  {
   "cell_type": "code",
   "execution_count": null,
   "metadata": {
    "collapsed": true
   },
   "outputs": [],
   "source": []
  }
 ],
 "metadata": {
  "kernelspec": {
   "display_name": "Python 2",
   "language": "python",
   "name": "python2"
  },
  "language_info": {
   "codemirror_mode": {
    "name": "ipython",
    "version": 2
   },
   "file_extension": ".py",
   "mimetype": "text/x-python",
   "name": "python",
   "nbconvert_exporter": "python",
   "pygments_lexer": "ipython2",
   "version": "2.7.6"
  }
 },
 "nbformat": 4,
 "nbformat_minor": 2
}
